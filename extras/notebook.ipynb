{
 "metadata": {
  "name": ""
 },
 "nbformat": 3,
 "nbformat_minor": 0,
 "worksheets": [
  {
   "cells": [
    {
     "cell_type": "code",
     "collapsed": false,
     "input": [
      "from z3 import *\n",
      "\n",
      "# Lets create a dictionary of all of our parameters.\n",
      "# Where:\n",
      "#    - f_in: Input Frequency\n",
      "#    - f_out: Output Frequency\n",
      "#    - d: PRDIV from datasheet. This is the division term\n",
      "#    - m: VDIV from datasheet. This is the multiply term\n",
      "params = {k: Int(k) for k in ['f_in', 'f_out', 'd', 'm']}\n",
      "\n",
      "# Lets look at the datasheet and define some constraints on value ranges\n",
      "# The range tuples are in the format (lower_bound, upper_bound) \n",
      "divide_range = (2e6, 4e6) # From K64F12 datasheet page 589 \n",
      "d_range = (1, 25)         # From K64F12 datasheet page 589\n",
      "m_range = (24, 55)        # From K64F12 datasheet page 590\n",
      "\n",
      "# Get the input and output frequency as user inputs. \n",
      "# This is a quick and dirty handling of the inputs.\n",
      "freq_in = 300e6\n",
      "freq_out = 120e6\n",
      "\n",
      "# Now we can constrain the equation with the \"facts\" we know\n",
      "facts = [\n",
      "    # define\n",
      "    params['f_in'] == freq_in,\n",
      "    params['f_out'] == freq_out,\n",
      "    \n",
      "    # Setup the equation which uses PRDIV (d) and VDIV (m)\n",
      "    # This equation is set up from the K64 datasheet\n",
      "    params['f_out'] == (params['f_in'] / params['d']) * params['m'],\n",
      "\n",
      "    # From K64 datasheet page 589\n",
      "    params['f_in'] / params['d'] >= divide_range[0],\n",
      "    params['f_in'] / params['d'] <= divide_range[1],\n",
      "\n",
      "    # From K64 datasheet page 589\n",
      "    params['d'] >= d_range[0],  \n",
      "    params['d'] <= d_range[1],\n",
      "\n",
      "    # From K64 datasheet page 590\n",
      "    params['m'] >= m_range[0],  \n",
      "    params['m'] <= m_range[1]]\n",
      "\n",
      "# To print out the results\n",
      "model = solve(facts)\n",
      "\n",
      "# But the model returns none\n",
      "print model"
     ],
     "language": "python",
     "metadata": {},
     "outputs": [
      {
       "output_type": "stream",
       "stream": "stdout",
       "text": [
        "no solution\n",
        "None\n"
       ]
      }
     ],
     "prompt_number": 28
    },
    {
     "cell_type": "code",
     "collapsed": false,
     "input": [
      "#This method is defined in k64_pll_calculator/util.py\n",
      "def solve_return_model(fact_list):\n",
      "    \"\"\"\n",
      "    The default z3.solve() method prints to the screen. This uses the basis of\n",
      "    that function to take a list of facts, add it to a solver and then return\n",
      "    a z3 model with a solution.\n",
      "\n",
      "    Relies on exceptions raised by calling s.mode() on an invalid model.\n",
      "\n",
      "    @param a list of z3 facts and constraints\n",
      "    @return A valid z3 model\n",
      "    @raises Z3Exception\n",
      "    \"\"\"\n",
      "    s = Solver()\n",
      "    s.add(*fact_list)\n",
      "    r = s.check()\n",
      "    if r == unsat:\n",
      "        print(\"no solution\")\n",
      "    elif r == unknown:\n",
      "        print(\"failed to solve\")\n",
      "\n",
      "    return s.model()\n",
      "\n",
      "model = solve_return_model(facts)\n",
      "\n",
      "print(model)\n",
      "print(\"Now we can play with the model: f_in == {}\".format(model[params['f_in']]))"
     ],
     "language": "python",
     "metadata": {},
     "outputs": [
      {
       "ename": "Z3Exception",
       "evalue": "model is not available",
       "output_type": "pyerr",
       "traceback": [
        "\u001b[0;31m---------------------------------------------------------------------------\u001b[0m\n\u001b[0;31mZ3Exception\u001b[0m                               Traceback (most recent call last)",
        "\u001b[0;32m<ipython-input-29-2dc216b9fba5>\u001b[0m in \u001b[0;36m<module>\u001b[0;34m()\u001b[0m\n\u001b[1;32m     22\u001b[0m     \u001b[0;32mreturn\u001b[0m \u001b[0ms\u001b[0m\u001b[0;34m.\u001b[0m\u001b[0mmodel\u001b[0m\u001b[0;34m(\u001b[0m\u001b[0;34m)\u001b[0m\u001b[0;34m\u001b[0m\u001b[0m\n\u001b[1;32m     23\u001b[0m \u001b[0;34m\u001b[0m\u001b[0m\n\u001b[0;32m---> 24\u001b[0;31m \u001b[0mmodel\u001b[0m \u001b[0;34m=\u001b[0m \u001b[0msolve_return_model\u001b[0m\u001b[0;34m(\u001b[0m\u001b[0mfacts\u001b[0m\u001b[0;34m)\u001b[0m\u001b[0;34m\u001b[0m\u001b[0m\n\u001b[0m\u001b[1;32m     25\u001b[0m \u001b[0;34m\u001b[0m\u001b[0m\n\u001b[1;32m     26\u001b[0m \u001b[0;32mprint\u001b[0m\u001b[0;34m(\u001b[0m\u001b[0mmodel\u001b[0m\u001b[0;34m)\u001b[0m\u001b[0;34m\u001b[0m\u001b[0m\n",
        "\u001b[0;32m<ipython-input-29-2dc216b9fba5>\u001b[0m in \u001b[0;36msolve_return_model\u001b[0;34m(fact_list)\u001b[0m\n\u001b[1;32m     20\u001b[0m         \u001b[0;32mprint\u001b[0m\u001b[0;34m(\u001b[0m\u001b[0;34m\"failed to solve\"\u001b[0m\u001b[0;34m)\u001b[0m\u001b[0;34m\u001b[0m\u001b[0m\n\u001b[1;32m     21\u001b[0m \u001b[0;34m\u001b[0m\u001b[0m\n\u001b[0;32m---> 22\u001b[0;31m     \u001b[0;32mreturn\u001b[0m \u001b[0ms\u001b[0m\u001b[0;34m.\u001b[0m\u001b[0mmodel\u001b[0m\u001b[0;34m(\u001b[0m\u001b[0;34m)\u001b[0m\u001b[0;34m\u001b[0m\u001b[0m\n\u001b[0m\u001b[1;32m     23\u001b[0m \u001b[0;34m\u001b[0m\u001b[0m\n\u001b[1;32m     24\u001b[0m \u001b[0mmodel\u001b[0m \u001b[0;34m=\u001b[0m \u001b[0msolve_return_model\u001b[0m\u001b[0;34m(\u001b[0m\u001b[0mfacts\u001b[0m\u001b[0;34m)\u001b[0m\u001b[0;34m\u001b[0m\u001b[0m\n",
        "\u001b[0;32m/usr/local/lib/python2.7/dist-packages/z3/z3.pyc\u001b[0m in \u001b[0;36mmodel\u001b[0;34m(self)\u001b[0m\n\u001b[1;32m   6116\u001b[0m             \u001b[0;32mreturn\u001b[0m \u001b[0mModelRef\u001b[0m\u001b[0;34m(\u001b[0m\u001b[0mZ3_solver_get_model\u001b[0m\u001b[0;34m(\u001b[0m\u001b[0mself\u001b[0m\u001b[0;34m.\u001b[0m\u001b[0mctx\u001b[0m\u001b[0;34m.\u001b[0m\u001b[0mref\u001b[0m\u001b[0;34m(\u001b[0m\u001b[0;34m)\u001b[0m\u001b[0;34m,\u001b[0m \u001b[0mself\u001b[0m\u001b[0;34m.\u001b[0m\u001b[0msolver\u001b[0m\u001b[0;34m)\u001b[0m\u001b[0;34m,\u001b[0m \u001b[0mself\u001b[0m\u001b[0;34m.\u001b[0m\u001b[0mctx\u001b[0m\u001b[0;34m)\u001b[0m\u001b[0;34m\u001b[0m\u001b[0m\n\u001b[1;32m   6117\u001b[0m         \u001b[0;32mexcept\u001b[0m \u001b[0mZ3Exception\u001b[0m\u001b[0;34m:\u001b[0m\u001b[0;34m\u001b[0m\u001b[0m\n\u001b[0;32m-> 6118\u001b[0;31m             \u001b[0;32mraise\u001b[0m \u001b[0mZ3Exception\u001b[0m\u001b[0;34m(\u001b[0m\u001b[0;34m\"model is not available\"\u001b[0m\u001b[0;34m)\u001b[0m\u001b[0;34m\u001b[0m\u001b[0m\n\u001b[0m\u001b[1;32m   6119\u001b[0m \u001b[0;34m\u001b[0m\u001b[0m\n\u001b[1;32m   6120\u001b[0m     \u001b[0;32mdef\u001b[0m \u001b[0munsat_core\u001b[0m\u001b[0;34m(\u001b[0m\u001b[0mself\u001b[0m\u001b[0;34m)\u001b[0m\u001b[0;34m:\u001b[0m\u001b[0;34m\u001b[0m\u001b[0m\n",
        "\u001b[0;31mZ3Exception\u001b[0m: model is not available"
       ]
      },
      {
       "output_type": "stream",
       "stream": "stdout",
       "text": [
        "no solution\n"
       ]
      }
     ],
     "prompt_number": 29
    }
   ],
   "metadata": {}
  }
 ]
}